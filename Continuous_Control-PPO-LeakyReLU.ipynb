{
 "cells": [
  {
   "cell_type": "markdown",
   "metadata": {},
   "source": [
    "## Import the necessary library\n"
   ]
  },
  {
   "cell_type": "code",
   "execution_count": 1,
   "metadata": {},
   "outputs": [],
   "source": [
    "import torch\n",
    "import numpy as np\n",
    "from collections import deque\n",
    "import matplotlib.pyplot as plt\n",
    "from unityagents import UnityEnvironment\n",
    "\n",
    "%matplotlib inline\n",
    "%load_ext autoreload\n",
    "%autoreload 2"
   ]
  },
  {
   "cell_type": "code",
   "execution_count": 2,
   "metadata": {
    "scrolled": false
   },
   "outputs": [
    {
     "name": "stderr",
     "output_type": "stream",
     "text": [
      "INFO:unityagents:\n",
      "'Academy' started successfully!\n",
      "Unity Academy name: Academy\n",
      "        Number of Brains: 1\n",
      "        Number of External Brains : 1\n",
      "        Lesson number : 0\n",
      "        Reset Parameters :\n",
      "\t\tgoal_speed -> 1.0\n",
      "\t\tgoal_size -> 5.0\n",
      "Unity brain name: ReacherBrain\n",
      "        Number of Visual Observations (per agent): 0\n",
      "        Vector Observation space type: continuous\n",
      "        Vector Observation space size (per agent): 33\n",
      "        Number of stacked Vector Observation: 1\n",
      "        Vector Action space type: continuous\n",
      "        Vector Action space size (per agent): 4\n",
      "        Vector Action descriptions: , , , \n"
     ]
    }
   ],
   "source": [
    "# env = UnityEnvironment(file_name='/data/Reacher_One_Linux_NoVis/Reacher_One_Linux_NoVis.x86_64')\n",
    "# env = UnityEnvironment(file_name='/data/Reacher_Linux_NoVis/Reacher.x86_64')\n",
    "env = UnityEnvironment(file_name='./Reacher_Windows_x86_64/Reacher.exe')\n",
    "# get the default brain\n",
    "brain_name = env.brain_names[0]\n",
    "brain = env.brains[brain_name]\n",
    "# reset the environment\n",
    "env_info = env.reset(train_mode=True)[brain_name]"
   ]
  },
  {
   "cell_type": "markdown",
   "metadata": {},
   "source": [
    "### Method to plot the progress of the agent's score"
   ]
  },
  {
   "cell_type": "code",
   "execution_count": 3,
   "metadata": {},
   "outputs": [],
   "source": [
    "def plot_result(scores):\n",
    "    # plot the scores\n",
    "    fig = plt.figure()\n",
    "    ax = fig.add_subplot(111)\n",
    "    plt.plot(np.arange(len(scores)), scores)\n",
    "    plt.ylabel('Score')\n",
    "    plt.xlabel('Episode #')\n",
    "    plt.show()"
   ]
  },
  {
   "cell_type": "markdown",
   "metadata": {},
   "source": [
    "## Validation method\n",
    "The noise has to be deactivated before the validation. This method is being used to assess the performance of the agent after every episode of training"
   ]
  },
  {
   "cell_type": "code",
   "execution_count": 4,
   "metadata": {},
   "outputs": [],
   "source": [
    "def validate(agent, max_t, train_mode=True):\n",
    "    env_info = env.reset(train_mode=train_mode)[brain_name]\n",
    "    states = env_info.vector_observations\n",
    "    scores_one_episode = np.zeros(states.shape[0])\n",
    "    for t in range(max_t):\n",
    "        actions, _, _ = agent.act(states)                        # select an action (for each agent)\n",
    "        env_info = env.step(np.clip(actions, -1, 1))[brain_name]   # send all actions to the environment\n",
    "        next_states = env_info.vector_observations               # get next state (for each agent)\n",
    "        rewards = env_info.rewards                               # get reward (for each agent)\n",
    "        dones = env_info.local_done                              # see if episode finished\n",
    "        scores_one_episode += env_info.rewards                   # update the score (for each agent)\n",
    "        states = next_states                                     # roll over states to next time step\n",
    "        if np.any(dones):                                        # exit loop if episode finished\n",
    "            break\n",
    "    return scores_one_episode"
   ]
  },
  {
   "cell_type": "markdown",
   "metadata": {},
   "source": [
    "## Training method\n",
    "The main loop of the training can be found here"
   ]
  },
  {
   "cell_type": "code",
   "execution_count": 5,
   "metadata": {},
   "outputs": [],
   "source": [
    "def train(agent, n_episodes=500, max_t=500, train_mode=True):\n",
    "    scores = []                        # list containing scores from each episode\n",
    "    scores_window = deque(maxlen=100)  # last 100 scores\n",
    "    for i_episode in range(1, n_episodes+1):\n",
    "        env_info = env.reset(train_mode=train_mode)[brain_name]\n",
    "        states = env_info.vector_observations\n",
    "        scores_one_episode = np.zeros(states.shape[0])\n",
    "        trajectories_states, trajectories_actions, trajectories_log_probs, trajectories_values, \\\n",
    "        trajectories_rewards, trajectories_next_states, trajectories_dones = [],[],[],[],[],[],[]\n",
    "        \n",
    "        for t in range(max_t):\n",
    "            actions, log_probs, values = agent.act(states)\n",
    "            env_info = env.step(np.clip(actions, -1, 1))[brain_name] # send all actions to the environment\n",
    "            next_states = env_info.vector_observations               # get next state (for each agent)\n",
    "            rewards = env_info.rewards                               # get reward (for each agent)\n",
    "            dones = env_info.local_done                              # see if episode finished\n",
    "            scores_one_episode += rewards\n",
    "            trajectories_states.append(states)\n",
    "            trajectories_actions.append(actions)\n",
    "            trajectories_log_probs.append(log_probs)\n",
    "            trajectories_values.append(values)\n",
    "            trajectories_rewards.append(rewards)\n",
    "            trajectories_next_states.append(next_states)\n",
    "            trajectories_dones.append(dones)\n",
    "            states = next_states                                     # roll over states to next time step\n",
    "            if np.any(dones):                                        # exit loop if episode finished\n",
    "                break\n",
    "#                 env_info = env.reset(train_mode=train_mode)[brain_name]\n",
    "#                 states = env_info.vector_observations \n",
    "  \n",
    "        agent.learn(trajectories_states, trajectories_actions, trajectories_log_probs, trajectories_values, \n",
    "        trajectories_rewards, trajectories_next_states, trajectories_dones)\n",
    "        score = np.average(scores_one_episode)\n",
    "        scores.append(score)\n",
    "        scores_window.append(score)\n",
    "        mean_100 = np.mean(scores_window)\n",
    "        print('Episode {}\\tAverage Score: {:.3f}\\tLast Score: {:.3f}\\tMax Score: {:.3f}'.format(i_episode, \n",
    "                                                                                          mean_100, \n",
    "                                                                                          score,\n",
    "                                                                                         np.max(scores_one_episode)))\n",
    "        if i_episode % 100 == 0:\n",
    "            print('\\rEpisode {}\\tAverage Score: {:.3f}\\tMax Score: {:.3f}'.format(i_episode, mean_100, np.max(scores_window)))\n",
    "            agent.save()\n",
    "        if len(scores_window) >= 100 and np.mean(scores_window)>=max_t*30.0/950:\n",
    "            print('\\nEnvironment solved in {:d} episodes!\\tAverage Score: {:.3f}'.format(i_episode, mean_100))\n",
    "            agent.save()\n",
    "            break\n",
    "    return scores"
   ]
  },
  {
   "cell_type": "code",
   "execution_count": 6,
   "metadata": {
    "scrolled": false
   },
   "outputs": [
    {
     "name": "stderr",
     "output_type": "stream",
     "text": [
      "I:\\MyDev\\Anaconda3\\envs\\drlnd\\lib\\site-packages\\torch\\nn\\functional.py:995: UserWarning: nn.functional.tanh is deprecated. Use torch.tanh instead.\n",
      "  warnings.warn(\"nn.functional.tanh is deprecated. Use torch.tanh instead.\")\n"
     ]
    },
    {
     "name": "stdout",
     "output_type": "stream",
     "text": [
      "Episode 1\tAverage Score: 0.056\tLast Score: 0.056\tMax Score: 0.380\n",
      "Episode 2\tAverage Score: 0.136\tLast Score: 0.217\tMax Score: 0.680\n",
      "Episode 3\tAverage Score: 0.202\tLast Score: 0.332\tMax Score: 0.950\n",
      "Episode 4\tAverage Score: 0.293\tLast Score: 0.567\tMax Score: 1.700\n",
      "Episode 5\tAverage Score: 0.416\tLast Score: 0.909\tMax Score: 2.050\n",
      "Episode 6\tAverage Score: 0.556\tLast Score: 1.257\tMax Score: 2.560\n",
      "Episode 7\tAverage Score: 0.648\tLast Score: 1.198\tMax Score: 2.820\n",
      "Episode 8\tAverage Score: 0.811\tLast Score: 1.955\tMax Score: 3.660\n",
      "Episode 9\tAverage Score: 0.943\tLast Score: 1.997\tMax Score: 3.280\n",
      "Episode 10\tAverage Score: 1.120\tLast Score: 2.710\tMax Score: 4.650\n",
      "Episode 11\tAverage Score: 1.288\tLast Score: 2.964\tMax Score: 5.890\n",
      "Episode 12\tAverage Score: 1.441\tLast Score: 3.123\tMax Score: 5.460\n",
      "Episode 13\tAverage Score: 1.595\tLast Score: 3.450\tMax Score: 5.540\n",
      "Episode 14\tAverage Score: 1.756\tLast Score: 3.842\tMax Score: 6.780\n",
      "Episode 15\tAverage Score: 1.922\tLast Score: 4.257\tMax Score: 6.980\n",
      "Episode 16\tAverage Score: 2.084\tLast Score: 4.507\tMax Score: 6.760\n",
      "Episode 17\tAverage Score: 2.239\tLast Score: 4.710\tMax Score: 6.900\n",
      "Episode 18\tAverage Score: 2.412\tLast Score: 5.358\tMax Score: 8.750\n",
      "Episode 19\tAverage Score: 2.608\tLast Score: 6.141\tMax Score: 8.310\n",
      "Episode 20\tAverage Score: 2.793\tLast Score: 6.305\tMax Score: 9.250\n",
      "Episode 21\tAverage Score: 2.948\tLast Score: 6.044\tMax Score: 9.140\n",
      "Episode 22\tAverage Score: 3.124\tLast Score: 6.817\tMax Score: 9.930\n",
      "Episode 23\tAverage Score: 3.339\tLast Score: 8.077\tMax Score: 11.960\n",
      "Episode 24\tAverage Score: 3.538\tLast Score: 8.123\tMax Score: 10.890\n",
      "Episode 25\tAverage Score: 3.705\tLast Score: 7.709\tMax Score: 10.210\n",
      "Episode 26\tAverage Score: 3.870\tLast Score: 7.999\tMax Score: 12.020\n",
      "Episode 27\tAverage Score: 4.062\tLast Score: 9.040\tMax Score: 16.920\n",
      "Episode 28\tAverage Score: 4.284\tLast Score: 10.269\tMax Score: 13.180\n",
      "Episode 29\tAverage Score: 4.465\tLast Score: 9.542\tMax Score: 12.330\n",
      "Episode 30\tAverage Score: 4.655\tLast Score: 10.175\tMax Score: 14.430\n",
      "Episode 31\tAverage Score: 4.856\tLast Score: 10.880\tMax Score: 14.410\n",
      "Episode 32\tAverage Score: 5.007\tLast Score: 9.694\tMax Score: 12.380\n",
      "Episode 33\tAverage Score: 5.181\tLast Score: 10.730\tMax Score: 15.020\n",
      "Episode 34\tAverage Score: 5.372\tLast Score: 11.678\tMax Score: 14.290\n",
      "Episode 35\tAverage Score: 5.536\tLast Score: 11.133\tMax Score: 16.040\n",
      "Episode 36\tAverage Score: 5.708\tLast Score: 11.709\tMax Score: 15.050\n",
      "Episode 37\tAverage Score: 5.916\tLast Score: 13.399\tMax Score: 17.900\n",
      "Episode 38\tAverage Score: 6.133\tLast Score: 14.186\tMax Score: 18.400\n",
      "Episode 39\tAverage Score: 6.340\tLast Score: 14.185\tMax Score: 18.210\n",
      "Episode 40\tAverage Score: 6.542\tLast Score: 14.408\tMax Score: 18.730\n",
      "Episode 41\tAverage Score: 6.723\tLast Score: 13.983\tMax Score: 17.790\n",
      "Episode 42\tAverage Score: 6.946\tLast Score: 16.077\tMax Score: 19.530\n",
      "Episode 43\tAverage Score: 7.187\tLast Score: 17.305\tMax Score: 22.110\n",
      "Episode 44\tAverage Score: 7.406\tLast Score: 16.848\tMax Score: 22.810\n",
      "Episode 45\tAverage Score: 7.641\tLast Score: 17.971\tMax Score: 24.820\n",
      "Episode 46\tAverage Score: 7.885\tLast Score: 18.876\tMax Score: 22.840\n",
      "Episode 47\tAverage Score: 8.124\tLast Score: 19.096\tMax Score: 24.980\n",
      "Episode 48\tAverage Score: 8.402\tLast Score: 21.465\tMax Score: 27.670\n",
      "Episode 49\tAverage Score: 8.664\tLast Score: 21.240\tMax Score: 27.910\n",
      "Episode 50\tAverage Score: 8.936\tLast Score: 22.262\tMax Score: 27.980\n",
      "Episode 51\tAverage Score: 9.233\tLast Score: 24.097\tMax Score: 29.520\n",
      "Episode 52\tAverage Score: 9.535\tLast Score: 24.934\tMax Score: 29.690\n",
      "Episode 53\tAverage Score: 9.816\tLast Score: 24.450\tMax Score: 30.430\n",
      "Episode 54\tAverage Score: 10.120\tLast Score: 26.230\tMax Score: 30.310\n",
      "Episode 55\tAverage Score: 10.414\tLast Score: 26.286\tMax Score: 36.530\n",
      "Episode 56\tAverage Score: 10.669\tLast Score: 24.653\tMax Score: 33.940\n",
      "Episode 57\tAverage Score: 10.948\tLast Score: 26.624\tMax Score: 34.700\n",
      "Episode 58\tAverage Score: 11.182\tLast Score: 24.517\tMax Score: 33.590\n",
      "Episode 59\tAverage Score: 11.472\tLast Score: 28.274\tMax Score: 34.370\n",
      "Episode 60\tAverage Score: 11.762\tLast Score: 28.861\tMax Score: 34.930\n",
      "Episode 61\tAverage Score: 12.082\tLast Score: 31.283\tMax Score: 39.050\n",
      "Episode 62\tAverage Score: 12.391\tLast Score: 31.243\tMax Score: 38.160\n",
      "Episode 63\tAverage Score: 12.716\tLast Score: 32.851\tMax Score: 39.230\n",
      "Episode 64\tAverage Score: 13.001\tLast Score: 30.964\tMax Score: 37.210\n",
      "Episode 65\tAverage Score: 13.305\tLast Score: 32.785\tMax Score: 38.630\n",
      "Episode 66\tAverage Score: 13.581\tLast Score: 31.487\tMax Score: 37.710\n",
      "Episode 67\tAverage Score: 13.883\tLast Score: 33.825\tMax Score: 38.020\n",
      "Episode 68\tAverage Score: 14.174\tLast Score: 33.705\tMax Score: 38.980\n",
      "Episode 69\tAverage Score: 14.464\tLast Score: 34.158\tMax Score: 39.600\n",
      "Episode 70\tAverage Score: 14.745\tLast Score: 34.118\tMax Score: 39.590\n",
      "Episode 71\tAverage Score: 15.028\tLast Score: 34.870\tMax Score: 39.230\n",
      "Episode 72\tAverage Score: 15.317\tLast Score: 35.787\tMax Score: 39.270\n",
      "Episode 73\tAverage Score: 15.587\tLast Score: 35.061\tMax Score: 39.000\n",
      "Episode 74\tAverage Score: 15.835\tLast Score: 33.960\tMax Score: 38.800\n",
      "Episode 75\tAverage Score: 16.090\tLast Score: 34.948\tMax Score: 38.910\n",
      "Episode 76\tAverage Score: 16.351\tLast Score: 35.875\tMax Score: 39.590\n",
      "Episode 77\tAverage Score: 16.611\tLast Score: 36.399\tMax Score: 39.400\n",
      "Episode 78\tAverage Score: 16.866\tLast Score: 36.479\tMax Score: 39.550\n",
      "Episode 79\tAverage Score: 17.107\tLast Score: 35.922\tMax Score: 39.240\n",
      "Episode 80\tAverage Score: 17.340\tLast Score: 35.776\tMax Score: 39.260\n",
      "Episode 81\tAverage Score: 17.576\tLast Score: 36.411\tMax Score: 39.600\n",
      "Episode 82\tAverage Score: 17.809\tLast Score: 36.674\tMax Score: 39.380\n",
      "Episode 83\tAverage Score: 18.027\tLast Score: 35.951\tMax Score: 39.570\n",
      "Episode 84\tAverage Score: 18.246\tLast Score: 36.404\tMax Score: 39.350\n",
      "Episode 85\tAverage Score: 18.464\tLast Score: 36.805\tMax Score: 39.340\n",
      "Episode 86\tAverage Score: 18.686\tLast Score: 37.501\tMax Score: 39.560\n",
      "Episode 87\tAverage Score: 18.894\tLast Score: 36.849\tMax Score: 38.610\n",
      "Episode 88\tAverage Score: 19.108\tLast Score: 37.650\tMax Score: 39.420\n",
      "Episode 89\tAverage Score: 19.313\tLast Score: 37.355\tMax Score: 39.590\n",
      "Episode 90\tAverage Score: 19.509\tLast Score: 36.948\tMax Score: 39.500\n",
      "Episode 91\tAverage Score: 19.707\tLast Score: 37.560\tMax Score: 39.600\n",
      "Episode 92\tAverage Score: 19.898\tLast Score: 37.254\tMax Score: 39.550\n",
      "Episode 93\tAverage Score: 20.087\tLast Score: 37.540\tMax Score: 39.460\n",
      "Episode 94\tAverage Score: 20.277\tLast Score: 37.914\tMax Score: 39.530\n",
      "Episode 95\tAverage Score: 20.465\tLast Score: 38.115\tMax Score: 39.380\n",
      "Episode 96\tAverage Score: 20.638\tLast Score: 37.112\tMax Score: 39.520\n",
      "Episode 97\tAverage Score: 20.808\tLast Score: 37.117\tMax Score: 39.550\n",
      "Episode 98\tAverage Score: 20.984\tLast Score: 38.075\tMax Score: 39.540\n",
      "Episode 99\tAverage Score: 21.154\tLast Score: 37.824\tMax Score: 39.410\n",
      "Episode 100\tAverage Score: 21.322\tLast Score: 37.912\tMax Score: 39.560\n",
      "Episode 100\tAverage Score: 21.322\tMax Score: 38.115\n",
      "Episode 101\tAverage Score: 21.700\tLast Score: 37.822\tMax Score: 39.570\n",
      "Episode 102\tAverage Score: 22.079\tLast Score: 38.198\tMax Score: 39.660\n",
      "Episode 103\tAverage Score: 22.455\tLast Score: 37.844\tMax Score: 39.550\n",
      "Episode 104\tAverage Score: 22.826\tLast Score: 37.720\tMax Score: 39.480\n",
      "Episode 105\tAverage Score: 23.201\tLast Score: 38.392\tMax Score: 39.670\n",
      "Episode 106\tAverage Score: 23.568\tLast Score: 37.934\tMax Score: 39.510\n",
      "Episode 107\tAverage Score: 23.939\tLast Score: 38.366\tMax Score: 39.630\n",
      "Episode 108\tAverage Score: 24.296\tLast Score: 37.610\tMax Score: 39.460\n",
      "Episode 109\tAverage Score: 24.653\tLast Score: 37.708\tMax Score: 39.590\n",
      "Episode 110\tAverage Score: 25.010\tLast Score: 38.413\tMax Score: 39.560\n",
      "Episode 111\tAverage Score: 25.358\tLast Score: 37.811\tMax Score: 39.610\n",
      "Episode 112\tAverage Score: 25.709\tLast Score: 38.193\tMax Score: 39.630\n",
      "Episode 113\tAverage Score: 26.061\tLast Score: 38.609\tMax Score: 39.590\n",
      "Episode 114\tAverage Score: 26.398\tLast Score: 37.606\tMax Score: 39.500\n",
      "Episode 115\tAverage Score: 26.737\tLast Score: 38.121\tMax Score: 39.510\n",
      "Episode 116\tAverage Score: 27.076\tLast Score: 38.402\tMax Score: 39.460\n",
      "Episode 117\tAverage Score: 27.412\tLast Score: 38.310\tMax Score: 39.490\n",
      "Episode 118\tAverage Score: 27.744\tLast Score: 38.602\tMax Score: 39.610\n"
     ]
    },
    {
     "name": "stdout",
     "output_type": "stream",
     "text": [
      "Episode 119\tAverage Score: 28.065\tLast Score: 38.214\tMax Score: 39.660\n",
      "Episode 120\tAverage Score: 28.382\tLast Score: 37.964\tMax Score: 39.610\n",
      "Episode 121\tAverage Score: 28.704\tLast Score: 38.293\tMax Score: 39.620\n",
      "Episode 122\tAverage Score: 29.018\tLast Score: 38.192\tMax Score: 39.530\n",
      "Episode 123\tAverage Score: 29.320\tLast Score: 38.319\tMax Score: 39.610\n",
      "Episode 124\tAverage Score: 29.620\tLast Score: 38.065\tMax Score: 39.570\n",
      "Episode 125\tAverage Score: 29.922\tLast Score: 37.964\tMax Score: 39.660\n",
      "Episode 126\tAverage Score: 30.223\tLast Score: 38.035\tMax Score: 39.520\n",
      "Episode 127\tAverage Score: 30.518\tLast Score: 38.595\tMax Score: 39.610\n",
      "Episode 128\tAverage Score: 30.802\tLast Score: 38.616\tMax Score: 39.540\n",
      "Episode 129\tAverage Score: 31.092\tLast Score: 38.592\tMax Score: 39.640\n",
      "Episode 130\tAverage Score: 31.375\tLast Score: 38.449\tMax Score: 39.580\n",
      "Episode 131\tAverage Score: 31.650\tLast Score: 38.384\tMax Score: 39.600\n",
      "Episode 132\tAverage Score: 31.940\tLast Score: 38.704\tMax Score: 39.570\n",
      "\n",
      "Environment solved in 132 episodes!\tAverage Score: 31.940\n"
     ]
    },
    {
     "data": {
      "image/png": "[encoded data removed]",
      "text/plain": [
       "<Figure size 432x288 with 1 Axes>"
      ]
     },
     "metadata": {},
     "output_type": "display_data"
    }
   ],
   "source": [
    "from agents.ppo import PPO\n",
    "from agents.model_ppo import Gaussian\n",
    "import random\n",
    "import torch.nn.functional as F\n",
    "\n",
    "# device = torch.device(\"cuda:0\" if torch.cuda.is_available() else \"cpu\")\n",
    "device = \"cpu\"\n",
    "states = env_info.vector_observations\n",
    "action_size = brain.vector_action_space_size\n",
    "network = Gaussian(states.shape[1], action_size, activation=F.leaky_relu).to(device)\n",
    "agent = PPO(network, device,\n",
    "                 LR=3e-4,\n",
    "                 GRADIENT_CLIP=5, \n",
    "                 EPOCHS=10, \n",
    "                 BATCH_SIZE=256,\n",
    "                GAMMA=0.99,\n",
    "                GAE_TAU=0.95,\n",
    "                CLIP_EPSILON=0.2)\n",
    "scores = train(agent, n_episodes=6000, max_t=1010, train_mode=True)\n",
    "plot_result(scores)"
   ]
  },
  {
   "cell_type": "markdown",
   "metadata": {},
   "source": [
    "## View the trained agent\n",
    "Use the cell below to load and view a trained agent"
   ]
  },
  {
   "cell_type": "code",
   "execution_count": 12,
   "metadata": {},
   "outputs": [
    {
     "name": "stdout",
     "output_type": "stream",
     "text": [
      "35.897999197617175\n"
     ]
    }
   ],
   "source": [
    "agent.load(\"ppo.pth\")\n",
    "scores = validate(agent, 1000, False)\n",
    "print(np.mean(scores))"
   ]
  }
 ],
 "metadata": {
  "kernelspec": {
   "display_name": "drlnd",
   "language": "python",
   "name": "drlnd"
  },
  "language_info": {
   "codemirror_mode": {
    "name": "ipython",
    "version": 3
   },
   "file_extension": ".py",
   "mimetype": "text/x-python",
   "name": "python",
   "nbconvert_exporter": "python",
   "pygments_lexer": "ipython3",
   "version": "3.6.6"
  }
 },
 "nbformat": 4,
 "nbformat_minor": 2
}
