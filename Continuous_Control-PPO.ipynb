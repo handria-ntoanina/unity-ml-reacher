{
 "cells": [
  {
   "cell_type": "markdown",
   "metadata": {},
   "source": [
    "## Import the necessary library\n"
   ]
  },
  {
   "cell_type": "code",
   "execution_count": 1,
   "metadata": {},
   "outputs": [],
   "source": [
    "import torch\n",
    "import numpy as np\n",
    "from collections import deque\n",
    "import matplotlib.pyplot as plt\n",
    "from unityagents import UnityEnvironment\n",
    "\n",
    "%matplotlib inline\n",
    "%load_ext autoreload\n",
    "%autoreload 2"
   ]
  },
  {
   "cell_type": "code",
   "execution_count": 2,
   "metadata": {
    "scrolled": false
   },
   "outputs": [
    {
     "name": "stderr",
     "output_type": "stream",
     "text": [
      "INFO:unityagents:\n",
      "'Academy' started successfully!\n",
      "Unity Academy name: Academy\n",
      "        Number of Brains: 1\n",
      "        Number of External Brains : 1\n",
      "        Lesson number : 0\n",
      "        Reset Parameters :\n",
      "\t\tgoal_speed -> 1.0\n",
      "\t\tgoal_size -> 5.0\n",
      "Unity brain name: ReacherBrain\n",
      "        Number of Visual Observations (per agent): 0\n",
      "        Vector Observation space type: continuous\n",
      "        Vector Observation space size (per agent): 33\n",
      "        Number of stacked Vector Observation: 1\n",
      "        Vector Action space type: continuous\n",
      "        Vector Action space size (per agent): 4\n",
      "        Vector Action descriptions: , , , \n"
     ]
    }
   ],
   "source": [
    "# env = UnityEnvironment(file_name='/data/Reacher_One_Linux_NoVis/Reacher_One_Linux_NoVis.x86_64')\n",
    "# env = UnityEnvironment(file_name='/data/Reacher_Linux_NoVis/Reacher.x86_64')\n",
    "env = UnityEnvironment(file_name='./Reacher_Windows_x86_64/Reacher.exe')\n",
    "# get the default brain\n",
    "brain_name = env.brain_names[0]\n",
    "brain = env.brains[brain_name]\n",
    "# reset the environment\n",
    "env_info = env.reset(train_mode=True)[brain_name]"
   ]
  },
  {
   "cell_type": "markdown",
   "metadata": {},
   "source": [
    "### Method to plot the progress of the agent's score"
   ]
  },
  {
   "cell_type": "code",
   "execution_count": 3,
   "metadata": {},
   "outputs": [],
   "source": [
    "def plot_result(scores):\n",
    "    # plot the scores\n",
    "    fig = plt.figure()\n",
    "    ax = fig.add_subplot(111)\n",
    "    plt.plot(np.arange(len(scores)), scores)\n",
    "    plt.ylabel('Score')\n",
    "    plt.xlabel('Episode #')\n",
    "    plt.show()"
   ]
  },
  {
   "cell_type": "markdown",
   "metadata": {},
   "source": [
    "## Validation method\n",
    "The noise has to be deactivated before the validation. This method is being used to assess the performance of the agent after every episode of training"
   ]
  },
  {
   "cell_type": "code",
   "execution_count": 4,
   "metadata": {},
   "outputs": [],
   "source": [
    "def validate(agent, max_t, train_mode=True):\n",
    "    env_info = env.reset(train_mode=train_mode)[brain_name]\n",
    "    states = env_info.vector_observations\n",
    "    scores_one_episode = np.zeros(states.shape[0])\n",
    "    for t in range(max_t):\n",
    "        actions, _, _ = agent.act(states)                        # select an action (for each agent)\n",
    "        env_info = env.step(np.clip(actions, -1, 1))[brain_name]   # send all actions to the environment\n",
    "        next_states = env_info.vector_observations               # get next state (for each agent)\n",
    "        rewards = env_info.rewards                               # get reward (for each agent)\n",
    "        dones = env_info.local_done                              # see if episode finished\n",
    "        scores_one_episode += env_info.rewards                   # update the score (for each agent)\n",
    "        states = next_states                                     # roll over states to next time step\n",
    "        if np.any(dones):                                        # exit loop if episode finished\n",
    "            break\n",
    "    return scores_one_episode"
   ]
  },
  {
   "cell_type": "markdown",
   "metadata": {},
   "source": [
    "## Training method\n",
    "The main loop of the training can be found here"
   ]
  },
  {
   "cell_type": "code",
   "execution_count": 5,
   "metadata": {},
   "outputs": [],
   "source": [
    "def train(agent, n_episodes=500, max_t=500, train_mode=True):\n",
    "    scores = []                        # list containing scores from each episode\n",
    "    scores_window = deque(maxlen=100)  # last 100 scores\n",
    "    for i_episode in range(1, n_episodes+1):\n",
    "        env_info = env.reset(train_mode=train_mode)[brain_name]\n",
    "        states = env_info.vector_observations\n",
    "        scores_one_episode = np.zeros(states.shape[0])\n",
    "        trajectories_states, trajectories_actions, trajectories_log_probs, trajectories_values, \\\n",
    "        trajectories_rewards, trajectories_next_states, trajectories_dones = [],[],[],[],[],[],[]\n",
    "        \n",
    "        for t in range(max_t):\n",
    "            actions, log_probs, values = agent.act(states)\n",
    "            env_info = env.step(np.clip(actions, -1, 1))[brain_name] # send all actions to the environment\n",
    "            next_states = env_info.vector_observations               # get next state (for each agent)\n",
    "            rewards = env_info.rewards                               # get reward (for each agent)\n",
    "            dones = env_info.local_done                              # see if episode finished\n",
    "            scores_one_episode += rewards\n",
    "            trajectories_states.append(states)\n",
    "            trajectories_actions.append(actions)\n",
    "            trajectories_log_probs.append(log_probs)\n",
    "            trajectories_values.append(values)\n",
    "            trajectories_rewards.append(rewards)\n",
    "            trajectories_next_states.append(next_states)\n",
    "            trajectories_dones.append(dones)\n",
    "            states = next_states                                     # roll over states to next time step\n",
    "            if np.any(dones):                                        # exit loop if episode finished\n",
    "                break\n",
    "#                 env_info = env.reset(train_mode=train_mode)[brain_name]\n",
    "#                 states = env_info.vector_observations \n",
    "  \n",
    "        agent.learn(trajectories_states, trajectories_actions, trajectories_log_probs, trajectories_values, \n",
    "        trajectories_rewards, trajectories_next_states, trajectories_dones)\n",
    "        score = np.average(scores_one_episode)\n",
    "        scores.append(score)\n",
    "        scores_window.append(score)\n",
    "        mean_100 = np.mean(scores_window)\n",
    "        print('Episode {}\\tAverage Score: {:.3f}\\tLast Score: {:.3f}\\tMax Score: {:.3f}'.format(i_episode, \n",
    "                                                                                          mean_100, \n",
    "                                                                                          score,\n",
    "                                                                                         np.max(scores_one_episode)))\n",
    "        if i_episode % 100 == 0:\n",
    "            print('\\rEpisode {}\\tAverage Score: {:.3f}\\tMax Score: {:.3f}'.format(i_episode, mean_100, np.max(scores_window)))\n",
    "            agent.save()\n",
    "        if len(scores_window) >= 100 and np.mean(scores_window)>=max_t*30.0/950:\n",
    "            print('\\nEnvironment solved in {:d} episodes!\\tAverage Score: {:.3f}'.format(i_episode, mean_100))\n",
    "            agent.save()\n",
    "            break\n",
    "    return scores"
   ]
  },
  {
   "cell_type": "code",
   "execution_count": 7,
   "metadata": {
    "scrolled": false
   },
   "outputs": [
    {
     "name": "stdout",
     "output_type": "stream",
     "text": [
      "Episode 1\tAverage Score: 0.181\tLast Score: 0.181\tMax Score: 0.950\n",
      "Episode 2\tAverage Score: 0.212\tLast Score: 0.242\tMax Score: 0.670\n",
      "Episode 3\tAverage Score: 0.254\tLast Score: 0.339\tMax Score: 0.910\n",
      "Episode 4\tAverage Score: 0.405\tLast Score: 0.856\tMax Score: 1.730\n",
      "Episode 5\tAverage Score: 0.530\tLast Score: 1.033\tMax Score: 1.940\n",
      "Episode 6\tAverage Score: 0.653\tLast Score: 1.263\tMax Score: 3.130\n",
      "Episode 7\tAverage Score: 0.766\tLast Score: 1.447\tMax Score: 2.600\n",
      "Episode 8\tAverage Score: 0.925\tLast Score: 2.033\tMax Score: 3.460\n",
      "Episode 9\tAverage Score: 1.109\tLast Score: 2.588\tMax Score: 4.570\n",
      "Episode 10\tAverage Score: 1.296\tLast Score: 2.977\tMax Score: 5.060\n",
      "Episode 11\tAverage Score: 1.478\tLast Score: 3.300\tMax Score: 5.110\n",
      "Episode 12\tAverage Score: 1.593\tLast Score: 2.848\tMax Score: 5.230\n",
      "Episode 13\tAverage Score: 1.698\tLast Score: 2.966\tMax Score: 4.730\n",
      "Episode 14\tAverage Score: 1.851\tLast Score: 3.838\tMax Score: 6.460\n",
      "Episode 15\tAverage Score: 1.982\tLast Score: 3.810\tMax Score: 7.430\n",
      "Episode 16\tAverage Score: 2.111\tLast Score: 4.046\tMax Score: 5.670\n",
      "Episode 17\tAverage Score: 2.267\tLast Score: 4.765\tMax Score: 7.580\n",
      "Episode 18\tAverage Score: 2.424\tLast Score: 5.099\tMax Score: 8.160\n",
      "Episode 19\tAverage Score: 2.572\tLast Score: 5.223\tMax Score: 7.340\n",
      "Episode 20\tAverage Score: 2.729\tLast Score: 5.722\tMax Score: 8.660\n",
      "Episode 21\tAverage Score: 2.868\tLast Score: 5.655\tMax Score: 10.220\n",
      "Episode 22\tAverage Score: 3.029\tLast Score: 6.411\tMax Score: 10.710\n",
      "Episode 23\tAverage Score: 3.218\tLast Score: 7.362\tMax Score: 10.160\n",
      "Episode 24\tAverage Score: 3.405\tLast Score: 7.702\tMax Score: 11.160\n",
      "Episode 25\tAverage Score: 3.559\tLast Score: 7.263\tMax Score: 12.910\n",
      "Episode 26\tAverage Score: 3.734\tLast Score: 8.101\tMax Score: 12.470\n",
      "Episode 27\tAverage Score: 3.945\tLast Score: 9.425\tMax Score: 13.030\n",
      "Episode 28\tAverage Score: 4.142\tLast Score: 9.474\tMax Score: 13.610\n",
      "Episode 29\tAverage Score: 4.293\tLast Score: 8.506\tMax Score: 13.080\n",
      "Episode 30\tAverage Score: 4.468\tLast Score: 9.570\tMax Score: 15.420\n",
      "Episode 31\tAverage Score: 4.660\tLast Score: 10.392\tMax Score: 13.670\n",
      "Episode 32\tAverage Score: 4.846\tLast Score: 10.632\tMax Score: 16.390\n",
      "Episode 33\tAverage Score: 5.027\tLast Score: 10.829\tMax Score: 16.880\n",
      "Episode 34\tAverage Score: 5.194\tLast Score: 10.692\tMax Score: 14.700\n",
      "Episode 35\tAverage Score: 5.369\tLast Score: 11.312\tMax Score: 15.510\n",
      "Episode 36\tAverage Score: 5.605\tLast Score: 13.878\tMax Score: 17.760\n",
      "Episode 37\tAverage Score: 5.819\tLast Score: 13.520\tMax Score: 21.600\n",
      "Episode 38\tAverage Score: 6.015\tLast Score: 13.246\tMax Score: 19.400\n",
      "Episode 39\tAverage Score: 6.244\tLast Score: 14.959\tMax Score: 20.160\n",
      "Episode 40\tAverage Score: 6.492\tLast Score: 16.180\tMax Score: 20.300\n",
      "Episode 41\tAverage Score: 6.778\tLast Score: 18.219\tMax Score: 22.590\n",
      "Episode 42\tAverage Score: 7.107\tLast Score: 20.599\tMax Score: 33.100\n",
      "Episode 43\tAverage Score: 7.389\tLast Score: 19.209\tMax Score: 24.940\n",
      "Episode 44\tAverage Score: 7.696\tLast Score: 20.922\tMax Score: 29.070\n",
      "Episode 45\tAverage Score: 8.042\tLast Score: 23.258\tMax Score: 32.670\n",
      "Episode 46\tAverage Score: 8.373\tLast Score: 23.243\tMax Score: 28.300\n",
      "Episode 47\tAverage Score: 8.711\tLast Score: 24.287\tMax Score: 30.150\n",
      "Episode 48\tAverage Score: 9.073\tLast Score: 26.091\tMax Score: 36.800\n",
      "Episode 49\tAverage Score: 9.349\tLast Score: 22.578\tMax Score: 33.460\n",
      "Episode 50\tAverage Score: 9.675\tLast Score: 25.632\tMax Score: 30.640\n",
      "Episode 51\tAverage Score: 9.994\tLast Score: 25.973\tMax Score: 31.540\n",
      "Episode 52\tAverage Score: 10.338\tLast Score: 27.864\tMax Score: 35.870\n",
      "Episode 53\tAverage Score: 10.643\tLast Score: 26.508\tMax Score: 33.040\n",
      "Episode 54\tAverage Score: 10.955\tLast Score: 27.481\tMax Score: 37.460\n",
      "Episode 55\tAverage Score: 11.296\tLast Score: 29.700\tMax Score: 39.130\n",
      "Episode 56\tAverage Score: 11.633\tLast Score: 30.194\tMax Score: 39.530\n",
      "Episode 57\tAverage Score: 11.958\tLast Score: 30.173\tMax Score: 34.260\n",
      "Episode 58\tAverage Score: 12.286\tLast Score: 30.963\tMax Score: 34.890\n",
      "Episode 59\tAverage Score: 12.583\tLast Score: 29.827\tMax Score: 33.600\n",
      "Episode 60\tAverage Score: 12.891\tLast Score: 31.055\tMax Score: 38.890\n",
      "Episode 61\tAverage Score: 13.187\tLast Score: 30.908\tMax Score: 38.280\n",
      "Episode 62\tAverage Score: 13.466\tLast Score: 30.506\tMax Score: 35.290\n",
      "Episode 63\tAverage Score: 13.763\tLast Score: 32.166\tMax Score: 36.920\n",
      "Episode 64\tAverage Score: 14.038\tLast Score: 31.355\tMax Score: 39.120\n",
      "Episode 65\tAverage Score: 14.303\tLast Score: 31.268\tMax Score: 35.730\n",
      "Episode 66\tAverage Score: 14.532\tLast Score: 29.421\tMax Score: 37.530\n",
      "Episode 67\tAverage Score: 14.791\tLast Score: 31.928\tMax Score: 36.000\n",
      "Episode 68\tAverage Score: 15.056\tLast Score: 32.806\tMax Score: 38.880\n",
      "Episode 69\tAverage Score: 15.290\tLast Score: 31.197\tMax Score: 39.120\n",
      "Episode 70\tAverage Score: 15.534\tLast Score: 32.377\tMax Score: 38.970\n",
      "Episode 71\tAverage Score: 15.777\tLast Score: 32.764\tMax Score: 39.130\n",
      "Episode 72\tAverage Score: 16.010\tLast Score: 32.563\tMax Score: 38.690\n",
      "Episode 73\tAverage Score: 16.239\tLast Score: 32.706\tMax Score: 38.810\n",
      "Episode 74\tAverage Score: 16.449\tLast Score: 31.773\tMax Score: 36.000\n",
      "Episode 75\tAverage Score: 16.661\tLast Score: 32.365\tMax Score: 39.340\n",
      "Episode 76\tAverage Score: 16.866\tLast Score: 32.262\tMax Score: 37.140\n",
      "Episode 77\tAverage Score: 17.056\tLast Score: 31.436\tMax Score: 38.870\n",
      "Episode 78\tAverage Score: 17.254\tLast Score: 32.564\tMax Score: 39.250\n",
      "Episode 79\tAverage Score: 17.457\tLast Score: 33.222\tMax Score: 38.290\n",
      "Episode 80\tAverage Score: 17.654\tLast Score: 33.241\tMax Score: 37.340\n",
      "Episode 81\tAverage Score: 17.833\tLast Score: 32.177\tMax Score: 36.550\n",
      "Episode 82\tAverage Score: 18.022\tLast Score: 33.335\tMax Score: 37.990\n",
      "Episode 83\tAverage Score: 18.214\tLast Score: 33.954\tMax Score: 39.400\n",
      "Episode 84\tAverage Score: 18.400\tLast Score: 33.847\tMax Score: 37.100\n",
      "Episode 85\tAverage Score: 18.574\tLast Score: 33.179\tMax Score: 38.290\n",
      "Episode 86\tAverage Score: 18.740\tLast Score: 32.805\tMax Score: 35.600\n",
      "Episode 87\tAverage Score: 18.910\tLast Score: 33.586\tMax Score: 38.510\n",
      "Episode 88\tAverage Score: 19.075\tLast Score: 33.428\tMax Score: 38.870\n",
      "Episode 89\tAverage Score: 19.235\tLast Score: 33.296\tMax Score: 37.890\n",
      "Episode 90\tAverage Score: 19.398\tLast Score: 33.892\tMax Score: 38.370\n",
      "Episode 91\tAverage Score: 19.550\tLast Score: 33.273\tMax Score: 39.080\n",
      "Episode 92\tAverage Score: 19.705\tLast Score: 33.742\tMax Score: 38.040\n",
      "Episode 93\tAverage Score: 19.860\tLast Score: 34.145\tMax Score: 38.770\n",
      "Episode 94\tAverage Score: 20.021\tLast Score: 35.034\tMax Score: 39.370\n",
      "Episode 95\tAverage Score: 20.161\tLast Score: 33.326\tMax Score: 37.500\n",
      "Episode 96\tAverage Score: 20.315\tLast Score: 34.948\tMax Score: 39.480\n",
      "Episode 97\tAverage Score: 20.464\tLast Score: 34.706\tMax Score: 37.460\n",
      "Episode 98\tAverage Score: 20.606\tLast Score: 34.383\tMax Score: 37.580\n",
      "Episode 99\tAverage Score: 20.752\tLast Score: 35.078\tMax Score: 39.040\n",
      "Episode 100\tAverage Score: 20.887\tLast Score: 34.297\tMax Score: 37.500\n",
      "Episode 100\tAverage Score: 20.887\tMax Score: 35.078\n",
      "Episode 101\tAverage Score: 21.232\tLast Score: 34.620\tMax Score: 39.060\n",
      "Episode 102\tAverage Score: 21.567\tLast Score: 33.768\tMax Score: 38.340\n",
      "Episode 103\tAverage Score: 21.911\tLast Score: 34.736\tMax Score: 38.560\n",
      "Episode 104\tAverage Score: 22.250\tLast Score: 34.749\tMax Score: 38.410\n",
      "Episode 105\tAverage Score: 22.583\tLast Score: 34.297\tMax Score: 37.690\n",
      "Episode 106\tAverage Score: 22.920\tLast Score: 35.021\tMax Score: 39.460\n",
      "Episode 107\tAverage Score: 23.267\tLast Score: 36.078\tMax Score: 39.450\n",
      "Episode 108\tAverage Score: 23.600\tLast Score: 35.387\tMax Score: 38.560\n",
      "Episode 109\tAverage Score: 23.921\tLast Score: 34.635\tMax Score: 39.290\n",
      "Episode 110\tAverage Score: 24.246\tLast Score: 35.489\tMax Score: 38.820\n",
      "Episode 111\tAverage Score: 24.568\tLast Score: 35.531\tMax Score: 39.140\n",
      "Episode 112\tAverage Score: 24.898\tLast Score: 35.840\tMax Score: 39.530\n",
      "Episode 113\tAverage Score: 25.215\tLast Score: 34.676\tMax Score: 37.750\n",
      "Episode 114\tAverage Score: 25.530\tLast Score: 35.299\tMax Score: 39.130\n",
      "Episode 115\tAverage Score: 25.837\tLast Score: 34.526\tMax Score: 39.170\n",
      "Episode 116\tAverage Score: 26.157\tLast Score: 36.106\tMax Score: 38.800\n",
      "Episode 117\tAverage Score: 26.463\tLast Score: 35.377\tMax Score: 39.430\n",
      "Episode 118\tAverage Score: 26.769\tLast Score: 35.680\tMax Score: 39.050\n"
     ]
    },
    {
     "name": "stdout",
     "output_type": "stream",
     "text": [
      "Episode 119\tAverage Score: 27.080\tLast Score: 36.266\tMax Score: 39.520\n",
      "Episode 120\tAverage Score: 27.380\tLast Score: 35.722\tMax Score: 38.780\n",
      "Episode 121\tAverage Score: 27.688\tLast Score: 36.464\tMax Score: 38.950\n",
      "Episode 122\tAverage Score: 27.989\tLast Score: 36.527\tMax Score: 39.050\n",
      "Episode 123\tAverage Score: 28.284\tLast Score: 36.840\tMax Score: 39.450\n",
      "Episode 124\tAverage Score: 28.560\tLast Score: 35.373\tMax Score: 38.120\n",
      "Episode 125\tAverage Score: 28.854\tLast Score: 36.623\tMax Score: 39.450\n",
      "Episode 126\tAverage Score: 29.137\tLast Score: 36.437\tMax Score: 39.200\n",
      "Episode 127\tAverage Score: 29.401\tLast Score: 35.755\tMax Score: 39.340\n",
      "Episode 128\tAverage Score: 29.663\tLast Score: 35.687\tMax Score: 38.270\n",
      "Episode 129\tAverage Score: 29.942\tLast Score: 36.456\tMax Score: 39.480\n",
      "Episode 130\tAverage Score: 30.208\tLast Score: 36.130\tMax Score: 38.930\n",
      "Episode 131\tAverage Score: 30.452\tLast Score: 34.784\tMax Score: 37.660\n",
      "Episode 132\tAverage Score: 30.708\tLast Score: 36.242\tMax Score: 39.540\n",
      "Episode 133\tAverage Score: 30.956\tLast Score: 35.596\tMax Score: 38.210\n",
      "Episode 134\tAverage Score: 31.215\tLast Score: 36.648\tMax Score: 38.950\n",
      "Episode 135\tAverage Score: 31.464\tLast Score: 36.155\tMax Score: 38.880\n",
      "Episode 136\tAverage Score: 31.696\tLast Score: 37.096\tMax Score: 39.320\n",
      "Episode 137\tAverage Score: 31.922\tLast Score: 36.105\tMax Score: 38.510\n",
      "\n",
      "Environment solved in 137 episodes!\tAverage Score: 31.922\n"
     ]
    },
    {
     "data": {
      "image/png": "[encoded data removed]",
      "text/plain": [
       "<Figure size 432x288 with 1 Axes>"
      ]
     },
     "metadata": {},
     "output_type": "display_data"
    }
   ],
   "source": [
    "from agents.ppo import PPO\n",
    "from agents.model_ppo import Gaussian\n",
    "import random\n",
    "\n",
    "# device = torch.device(\"cuda:0\" if torch.cuda.is_available() else \"cpu\")\n",
    "device = \"cpu\"\n",
    "states = env_info.vector_observations\n",
    "action_size = brain.vector_action_space_size\n",
    "network = Gaussian(states.shape[1], action_size).to(device)\n",
    "agent = PPO(network, device,\n",
    "                 LR=3e-4,\n",
    "                 GRADIENT_CLIP=5, \n",
    "                 EPOCHS=10, \n",
    "                 BATCH_SIZE=256,\n",
    "                GAMMA=0.99,\n",
    "                GAE_TAU=0.95,\n",
    "                CLIP_EPSILON=0.2)\n",
    "scores = train(agent, n_episodes=6000, max_t=1010, train_mode=True)\n",
    "plot_result(scores)"
   ]
  },
  {
   "cell_type": "markdown",
   "metadata": {},
   "source": [
    "## View the trained agent\n",
    "Use the cell below to load and view a trained agent"
   ]
  },
  {
   "cell_type": "code",
   "execution_count": 12,
   "metadata": {},
   "outputs": [
    {
     "name": "stdout",
     "output_type": "stream",
     "text": [
      "35.897999197617175\n"
     ]
    }
   ],
   "source": [
    "agent.load(\"ppo.pth\")\n",
    "scores = validate(agent, 1000, False)\n",
    "print(np.mean(scores))"
   ]
  },
  {
   "cell_type": "code",
   "execution_count": 6,
   "metadata": {},
   "outputs": [],
   "source": [
    "a = torch.tensor(5.)"
   ]
  }
 ],
 "metadata": {
  "kernelspec": {
   "display_name": "drlnd",
   "language": "python",
   "name": "drlnd"
  },
  "language_info": {
   "codemirror_mode": {
    "name": "ipython",
    "version": 3
   },
   "file_extension": ".py",
   "mimetype": "text/x-python",
   "name": "python",
   "nbconvert_exporter": "python",
   "pygments_lexer": "ipython3",
   "version": "3.6.6"
  }
 },
 "nbformat": 4,
 "nbformat_minor": 2
}
