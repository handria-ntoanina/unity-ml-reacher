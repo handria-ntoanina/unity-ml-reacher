{
 "cells": [
  {
   "cell_type": "markdown",
   "metadata": {},
   "source": [
    "## Import the necessary library\n"
   ]
  },
  {
   "cell_type": "code",
   "execution_count": 1,
   "metadata": {},
   "outputs": [],
   "source": [
    "import torch\n",
    "import numpy as np\n",
    "from collections import deque\n",
    "import matplotlib.pyplot as plt\n",
    "from unityagents import UnityEnvironment\n",
    "\n",
    "%matplotlib inline\n",
    "%load_ext autoreload\n",
    "%autoreload 2"
   ]
  },
  {
   "cell_type": "code",
   "execution_count": 2,
   "metadata": {
    "scrolled": false
   },
   "outputs": [
    {
     "name": "stderr",
     "output_type": "stream",
     "text": [
      "INFO:unityagents:\n",
      "'Academy' started successfully!\n",
      "Unity Academy name: Academy\n",
      "        Number of Brains: 1\n",
      "        Number of External Brains : 1\n",
      "        Lesson number : 0\n",
      "        Reset Parameters :\n",
      "\t\tgoal_speed -> 1.0\n",
      "\t\tgoal_size -> 5.0\n",
      "Unity brain name: ReacherBrain\n",
      "        Number of Visual Observations (per agent): 0\n",
      "        Vector Observation space type: continuous\n",
      "        Vector Observation space size (per agent): 33\n",
      "        Number of stacked Vector Observation: 1\n",
      "        Vector Action space type: continuous\n",
      "        Vector Action space size (per agent): 4\n",
      "        Vector Action descriptions: , , , \n"
     ]
    }
   ],
   "source": [
    "# env = UnityEnvironment(file_name='/data/Reacher_One_Linux_NoVis/Reacher_One_Linux_NoVis.x86_64')\n",
    "# env = UnityEnvironment(file_name='/data/Reacher_Linux_NoVis/Reacher.x86_64')\n",
    "env = UnityEnvironment(file_name='./Reacher_Windows_x86_64/Reacher.exe')\n",
    "# get the default brain\n",
    "brain_name = env.brain_names[0]\n",
    "brain = env.brains[brain_name]\n",
    "# reset the environment\n",
    "env_info = env.reset(train_mode=True)[brain_name]"
   ]
  },
  {
   "cell_type": "markdown",
   "metadata": {},
   "source": [
    "### Method to plot the progress of the agent's score"
   ]
  },
  {
   "cell_type": "code",
   "execution_count": 3,
   "metadata": {},
   "outputs": [],
   "source": [
    "def plot_result(scores):\n",
    "    # plot the scores\n",
    "    fig = plt.figure()\n",
    "    ax = fig.add_subplot(111)\n",
    "    plt.plot(np.arange(len(scores)), scores)\n",
    "    plt.ylabel('Score')\n",
    "    plt.xlabel('Episode #')\n",
    "    plt.show()"
   ]
  },
  {
   "cell_type": "markdown",
   "metadata": {},
   "source": [
    "## Validation method\n",
    "The noise has to be deactivated before the validation. This method is being used to assess the performance of the agent after every episode of training"
   ]
  },
  {
   "cell_type": "code",
   "execution_count": 4,
   "metadata": {},
   "outputs": [],
   "source": [
    "def validate(agent, max_t, train_mode=True):\n",
    "    env_info = env.reset(train_mode=train_mode)[brain_name]\n",
    "    states = env_info.vector_observations\n",
    "    scores_one_episode = np.zeros(states.shape[0])\n",
    "    for t in range(max_t):\n",
    "        actions, _, _ = agent.act(states)                        # select an action (for each agent)\n",
    "        env_info = env.step(np.clip(actions, -1, 1))[brain_name]   # send all actions to the environment\n",
    "        next_states = env_info.vector_observations               # get next state (for each agent)\n",
    "        rewards = env_info.rewards                               # get reward (for each agent)\n",
    "        dones = env_info.local_done                              # see if episode finished\n",
    "        scores_one_episode += env_info.rewards                   # update the score (for each agent)\n",
    "        states = next_states                                     # roll over states to next time step\n",
    "        if np.any(dones):                                        # exit loop if episode finished\n",
    "            break\n",
    "    return scores_one_episode"
   ]
  },
  {
   "cell_type": "markdown",
   "metadata": {},
   "source": [
    "## Training method\n",
    "The main loop of the training can be found here"
   ]
  },
  {
   "cell_type": "code",
   "execution_count": 5,
   "metadata": {},
   "outputs": [],
   "source": [
    "def train(agent, n_episodes=500, max_t=500, train_mode=True):\n",
    "    scores = []                        # list containing scores from each episode\n",
    "    scores_window = deque(maxlen=100)  # last 100 scores\n",
    "    for i_episode in range(1, n_episodes+1):\n",
    "        env_info = env.reset(train_mode=train_mode)[brain_name]\n",
    "        states = env_info.vector_observations\n",
    "        scores_one_episode = np.zeros(states.shape[0])\n",
    "        trajectories_states, trajectories_actions, trajectories_log_probs, trajectories_values, \\\n",
    "        trajectories_rewards, trajectories_next_states, trajectories_dones = [],[],[],[],[],[],[]\n",
    "        \n",
    "        for t in range(max_t):\n",
    "            actions, log_probs, values = agent.act(states)\n",
    "            env_info = env.step(np.clip(actions, -1, 1))[brain_name] # send all actions to the environment\n",
    "            next_states = env_info.vector_observations               # get next state (for each agent)\n",
    "            rewards = env_info.rewards                               # get reward (for each agent)\n",
    "            dones = env_info.local_done                              # see if episode finished\n",
    "            scores_one_episode += rewards\n",
    "            trajectories_states.append(states)\n",
    "            trajectories_actions.append(actions)\n",
    "            trajectories_log_probs.append(log_probs)\n",
    "            trajectories_values.append(values)\n",
    "            trajectories_rewards.append(rewards)\n",
    "            trajectories_next_states.append(next_states)\n",
    "            trajectories_dones.append(dones)\n",
    "            states = next_states                                     # roll over states to next time step\n",
    "            if np.any(dones):                                        # exit loop if episode finished\n",
    "                break\n",
    "#                 env_info = env.reset(train_mode=train_mode)[brain_name]\n",
    "#                 states = env_info.vector_observations \n",
    "  \n",
    "        agent.learn(trajectories_states, trajectories_actions, trajectories_log_probs, trajectories_values, \n",
    "        trajectories_rewards, trajectories_next_states, trajectories_dones)\n",
    "        score = np.average(scores_one_episode)\n",
    "        scores.append(score)\n",
    "        scores_window.append(score)\n",
    "        mean_100 = np.mean(scores_window)\n",
    "        print('Episode {}\\tAverage Score: {:.3f}\\tLast Score: {:.3f}\\tMax Score: {:.3f}'.format(i_episode, \n",
    "                                                                                          mean_100, \n",
    "                                                                                          score,\n",
    "                                                                                         np.max(scores_one_episode)))\n",
    "        if i_episode % 100 == 0:\n",
    "            print('\\rEpisode {}\\tAverage Score: {:.3f}\\tMax Score: {:.3f}'.format(i_episode, mean_100, np.max(scores_window)))\n",
    "            agent.save()\n",
    "        if len(scores_window) >= 100 and np.mean(scores_window)>=max_t*30.0/950:\n",
    "            print('\\nEnvironment solved in {:d} episodes!\\tAverage Score: {:.3f}'.format(i_episode, mean_100))\n",
    "            agent.save()\n",
    "            break\n",
    "    return scores"
   ]
  },
  {
   "cell_type": "code",
   "execution_count": null,
   "metadata": {
    "scrolled": true
   },
   "outputs": [
    {
     "name": "stdout",
     "output_type": "stream",
     "text": [
      "Episode 1\tAverage Score: 0.181\tLast Score: 0.181\tMax Score: 0.950\n",
      "Episode 2\tAverage Score: 0.212\tLast Score: 0.242\tMax Score: 0.670\n",
      "Episode 3\tAverage Score: 0.254\tLast Score: 0.339\tMax Score: 0.910\n",
      "Episode 4\tAverage Score: 0.405\tLast Score: 0.856\tMax Score: 1.730\n",
      "Episode 5\tAverage Score: 0.530\tLast Score: 1.033\tMax Score: 1.940\n",
      "Episode 6\tAverage Score: 0.653\tLast Score: 1.263\tMax Score: 3.130\n",
      "Episode 7\tAverage Score: 0.766\tLast Score: 1.447\tMax Score: 2.600\n",
      "Episode 8\tAverage Score: 0.925\tLast Score: 2.033\tMax Score: 3.460\n",
      "Episode 9\tAverage Score: 1.109\tLast Score: 2.588\tMax Score: 4.570\n",
      "Episode 10\tAverage Score: 1.296\tLast Score: 2.977\tMax Score: 5.060\n",
      "Episode 11\tAverage Score: 1.478\tLast Score: 3.300\tMax Score: 5.110\n",
      "Episode 12\tAverage Score: 1.593\tLast Score: 2.848\tMax Score: 5.230\n",
      "Episode 13\tAverage Score: 1.698\tLast Score: 2.966\tMax Score: 4.730\n",
      "Episode 14\tAverage Score: 1.851\tLast Score: 3.838\tMax Score: 6.460\n",
      "Episode 15\tAverage Score: 1.982\tLast Score: 3.810\tMax Score: 7.430\n",
      "Episode 16\tAverage Score: 2.111\tLast Score: 4.046\tMax Score: 5.670\n",
      "Episode 17\tAverage Score: 2.267\tLast Score: 4.765\tMax Score: 7.580\n",
      "Episode 18\tAverage Score: 2.424\tLast Score: 5.099\tMax Score: 8.160\n",
      "Episode 19\tAverage Score: 2.572\tLast Score: 5.223\tMax Score: 7.340\n",
      "Episode 20\tAverage Score: 2.729\tLast Score: 5.722\tMax Score: 8.660\n",
      "Episode 21\tAverage Score: 2.868\tLast Score: 5.655\tMax Score: 10.220\n",
      "Episode 22\tAverage Score: 3.029\tLast Score: 6.411\tMax Score: 10.710\n",
      "Episode 23\tAverage Score: 3.218\tLast Score: 7.362\tMax Score: 10.160\n",
      "Episode 24\tAverage Score: 3.405\tLast Score: 7.702\tMax Score: 11.160\n",
      "Episode 25\tAverage Score: 3.559\tLast Score: 7.263\tMax Score: 12.910\n",
      "Episode 26\tAverage Score: 3.734\tLast Score: 8.101\tMax Score: 12.470\n",
      "Episode 27\tAverage Score: 3.945\tLast Score: 9.425\tMax Score: 13.030\n",
      "Episode 28\tAverage Score: 4.142\tLast Score: 9.474\tMax Score: 13.610\n",
      "Episode 29\tAverage Score: 4.293\tLast Score: 8.506\tMax Score: 13.080\n",
      "Episode 30\tAverage Score: 4.468\tLast Score: 9.570\tMax Score: 15.420\n",
      "Episode 31\tAverage Score: 4.660\tLast Score: 10.392\tMax Score: 13.670\n",
      "Episode 32\tAverage Score: 4.846\tLast Score: 10.632\tMax Score: 16.390\n",
      "Episode 33\tAverage Score: 5.027\tLast Score: 10.829\tMax Score: 16.880\n",
      "Episode 34\tAverage Score: 5.194\tLast Score: 10.692\tMax Score: 14.700\n",
      "Episode 35\tAverage Score: 5.369\tLast Score: 11.312\tMax Score: 15.510\n",
      "Episode 36\tAverage Score: 5.605\tLast Score: 13.878\tMax Score: 17.760\n",
      "Episode 37\tAverage Score: 5.819\tLast Score: 13.520\tMax Score: 21.600\n",
      "Episode 38\tAverage Score: 6.015\tLast Score: 13.246\tMax Score: 19.400\n",
      "Episode 39\tAverage Score: 6.244\tLast Score: 14.959\tMax Score: 20.160\n",
      "Episode 40\tAverage Score: 6.492\tLast Score: 16.180\tMax Score: 20.300\n",
      "Episode 41\tAverage Score: 6.778\tLast Score: 18.219\tMax Score: 22.590\n",
      "Episode 42\tAverage Score: 7.107\tLast Score: 20.599\tMax Score: 33.100\n",
      "Episode 43\tAverage Score: 7.389\tLast Score: 19.209\tMax Score: 24.940\n",
      "Episode 44\tAverage Score: 7.696\tLast Score: 20.922\tMax Score: 29.070\n",
      "Episode 45\tAverage Score: 8.042\tLast Score: 23.258\tMax Score: 32.670\n",
      "Episode 46\tAverage Score: 8.373\tLast Score: 23.243\tMax Score: 28.300\n",
      "Episode 47\tAverage Score: 8.711\tLast Score: 24.287\tMax Score: 30.150\n",
      "Episode 48\tAverage Score: 9.073\tLast Score: 26.091\tMax Score: 36.800\n",
      "Episode 49\tAverage Score: 9.349\tLast Score: 22.578\tMax Score: 33.460\n",
      "Episode 50\tAverage Score: 9.675\tLast Score: 25.632\tMax Score: 30.640\n",
      "Episode 51\tAverage Score: 9.994\tLast Score: 25.973\tMax Score: 31.540\n",
      "Episode 52\tAverage Score: 10.338\tLast Score: 27.864\tMax Score: 35.870\n",
      "Episode 53\tAverage Score: 10.643\tLast Score: 26.508\tMax Score: 33.040\n",
      "Episode 54\tAverage Score: 10.955\tLast Score: 27.481\tMax Score: 37.460\n",
      "Episode 55\tAverage Score: 11.296\tLast Score: 29.700\tMax Score: 39.130\n"
     ]
    }
   ],
   "source": [
    "from agents.ppo import PPO\n",
    "from agents.model_ppo import Gaussian\n",
    "import random\n",
    "\n",
    "# device = torch.device(\"cuda:0\" if torch.cuda.is_available() else \"cpu\")\n",
    "device = \"cpu\"\n",
    "states = env_info.vector_observations\n",
    "action_size = brain.vector_action_space_size\n",
    "network = Gaussian(states.shape[1], action_size).to(device)\n",
    "agent = PPO(network, device,\n",
    "                 LR=3e-4,\n",
    "                 GRADIENT_CLIP=5, \n",
    "                 EPOCHS=10, \n",
    "                 BATCH_SIZE=256,\n",
    "                GAMMA=0.99,\n",
    "                GAE_TAU=0.95,\n",
    "                CLIP_EPSILON=0.2)\n",
    "scores = train(agent, n_episodes=6000, max_t=1010, train_mode=True)\n",
    "plot_result(scores)"
   ]
  },
  {
   "cell_type": "markdown",
   "metadata": {},
   "source": [
    "## View the trained agent\n",
    "Use the cell below to load and view a trained agent"
   ]
  },
  {
   "cell_type": "code",
   "execution_count": null,
   "metadata": {},
   "outputs": [],
   "source": [
    "agent.load(\"ppo.pth\")\n",
    "scores = validate(agent, 200, False)\n",
    "print(np.mean(scores))"
   ]
  },
  {
   "cell_type": "code",
   "execution_count": 6,
   "metadata": {},
   "outputs": [],
   "source": [
    "a = torch.tensor(5.)"
   ]
  }
 ],
 "metadata": {
  "kernelspec": {
   "display_name": "drlnd",
   "language": "python",
   "name": "drlnd"
  },
  "language_info": {
   "codemirror_mode": {
    "name": "ipython",
    "version": 3
   },
   "file_extension": ".py",
   "mimetype": "text/x-python",
   "name": "python",
   "nbconvert_exporter": "python",
   "pygments_lexer": "ipython3",
   "version": "3.6.6"
  }
 },
 "nbformat": 4,
 "nbformat_minor": 2
}
