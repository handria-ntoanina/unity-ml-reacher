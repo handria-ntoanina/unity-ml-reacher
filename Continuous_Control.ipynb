{
 "cells": [
  {
   "cell_type": "markdown",
   "metadata": {},
   "source": [
    "# Reacher\n"
   ]
  },
  {
   "cell_type": "code",
   "execution_count": 1,
   "metadata": {},
   "outputs": [],
   "source": [
    "import torch\n",
    "import numpy as np\n",
    "from collections import deque\n",
    "import matplotlib.pyplot as plt\n",
    "from unityagents import UnityEnvironment\n",
    "\n",
    "%matplotlib inline\n",
    "%load_ext autoreload\n",
    "%autoreload 2"
   ]
  },
  {
   "cell_type": "code",
   "execution_count": 2,
   "metadata": {
    "scrolled": true
   },
   "outputs": [
    {
     "name": "stderr",
     "output_type": "stream",
     "text": [
      "INFO:unityagents:\n",
      "'Academy' started successfully!\n",
      "Unity Academy name: Academy\n",
      "        Number of Brains: 1\n",
      "        Number of External Brains : 1\n",
      "        Lesson number : 0\n",
      "        Reset Parameters :\n",
      "\t\tgoal_speed -> 1.0\n",
      "\t\tgoal_size -> 5.0\n",
      "Unity brain name: ReacherBrain\n",
      "        Number of Visual Observations (per agent): 0\n",
      "        Vector Observation space type: continuous\n",
      "        Vector Observation space size (per agent): 33\n",
      "        Number of stacked Vector Observation: 1\n",
      "        Vector Action space type: continuous\n",
      "        Vector Action space size (per agent): 4\n",
      "        Vector Action descriptions: , , , \n"
     ]
    }
   ],
   "source": [
    "env = UnityEnvironment(file_name='./Reacher_Windows_x86_64_1/Reacher.exe')\n",
    "# get the default brain\n",
    "brain_name = env.brain_names[0]\n",
    "brain = env.brains[brain_name]\n",
    "# reset the environment\n",
    "env_info = env.reset(train_mode=True)[brain_name]"
   ]
  },
  {
   "cell_type": "markdown",
   "metadata": {},
   "source": [
    "### Method to plot the progress of the agent's score"
   ]
  },
  {
   "cell_type": "code",
   "execution_count": 3,
   "metadata": {},
   "outputs": [],
   "source": [
    "def plot_result(scores):\n",
    "    # plot the scores\n",
    "    fig = plt.figure()\n",
    "    ax = fig.add_subplot(111)\n",
    "    plt.plot(np.arange(len(scores)), scores)\n",
    "    plt.ylabel('Score')\n",
    "    plt.xlabel('Episode #')\n",
    "    plt.show()"
   ]
  },
  {
   "cell_type": "markdown",
   "metadata": {},
   "source": [
    "## Normalize the inputs\n",
    "Run a simulation of n episode of m steps. Then calculate mu and sigmoid."
   ]
  },
  {
   "cell_type": "code",
   "execution_count": 27,
   "metadata": {},
   "outputs": [],
   "source": [
    "action_size = brain.vector_action_space_size\n",
    "num_agents = len(env_info.agents)\n",
    "env_info = env.reset(train_mode=True)[brain_name]     # reset the environment\n",
    "states = None\n",
    "for _ in range(5):\n",
    "    while True:\n",
    "        i+=1\n",
    "        actions = np.random.randn(num_agents, action_size) # select an action (for each agent)\n",
    "        actions = np.clip(actions, -1, 1)                  # all actions between -1 and 1\n",
    "        env_info = env.step(actions)[brain_name]           # send all actions to tne environment\n",
    "        next_states = env_info.vector_observations         # get next state (for each agent)\n",
    "        if(states is not None):\n",
    "            states = np.concatenate((states, next_states))\n",
    "        else:\n",
    "            states = next_states\n",
    "        dones = env_info.local_done                        # see if episode finished\n",
    "        if np.any(dones):                                  # exit loop if episode finished\n",
    "            break\n",
    "mu = np.mean(states, axis=0)\n",
    "sigma = np.sqrt(np.mean((states - mu)**2, axis=0) + 1e-10)\n",
    "torch.save({'mu':mu, 'sigma':sigma}, 'mu_sigma.pth')"
   ]
  },
  {
   "cell_type": "markdown",
   "metadata": {},
   "source": [
    "## Load the normalization parameters"
   ]
  },
  {
   "cell_type": "code",
   "execution_count": 29,
   "metadata": {},
   "outputs": [],
   "source": [
    "parameters = torch.load('mu_sigma.pth')\n",
    "mu = parameters['mu']\n",
    "sigma = parameters['sigma']\n",
    "def normalize(state):\n",
    "    return (state - mu)/sigma"
   ]
  },
  {
   "cell_type": "markdown",
   "metadata": {},
   "source": [
    "## Validation method\n"
   ]
  },
  {
   "cell_type": "code",
   "execution_count": 30,
   "metadata": {},
   "outputs": [],
   "source": [
    "def validate(agent, max_t, train_mode=True):\n",
    "    env_info = env.reset(train_mode=train_mode)[brain_name]\n",
    "    agent.reset()\n",
    "    states = normalize(env_info.vector_observations)\n",
    "    scores_one_episode = np.zeros(states.shape[0])\n",
    "    for t in range(max_t):\n",
    "        actions = agent.act(states, add_noise=False)             # select an action (for each agent)\n",
    "        env_info = env.step(actions)[brain_name]                 # send all actions to the environment\n",
    "        next_states = normalize(env_info.vector_observations)    # get next state (for each agent)\n",
    "        rewards = env_info.rewards                               # get reward (for each agent)\n",
    "        dones = env_info.local_done                              # see if episode finished\n",
    "        scores_one_episode += env_info.rewards                   # update the score (for each agent)\n",
    "        states = next_states                                     # roll over states to next time step\n",
    "        if np.any(dones):                                        # exit loop if episode finished\n",
    "            break\n",
    "    return scores_one_episode"
   ]
  },
  {
   "cell_type": "code",
   "execution_count": null,
   "metadata": {},
   "outputs": [],
   "source": [
    "def train(agent, n_episodes=500, train_mode=True):\n",
    "    scores = []                        # list containing scores from each episode\n",
    "    scores_window = deque(maxlen=100)  # last 100 scores\n",
    "    for i_episode in range(1, n_episodes+1):\n",
    "        env_info = env.reset(train_mode=train_mode)[brain_name]\n",
    "        states = env_info.vector_observations\n",
    "        rewards\n",
    "        for t in range(max_t):\n",
    "            actions = agent.act(states)                              # select an action (for each agent)\n",
    "            env_info = env.step(actions)[brain_name]                 # send all actions to the environment\n",
    "            next_states = env_info.vector_observations               # get next state (for each agent)\n",
    "            rewards = env_info.rewards                               # get reward (for each agent)\n",
    "            dones = env_info.local_done                              # see if episode finished\n",
    "            agent.step(states, actions, rewards, next_states, dones) # learn\n",
    "            states = next_states                                     # roll over states to next time step\n",
    "            if np.any(dones):                                        # exit loop if episode finished\n",
    "                break\n",
    "        scores_one_episode = validate(agent, max_t, train_mode=train_mode)\n",
    "        score = np.average(scores_one_episode)\n",
    "        scores.append(score)\n",
    "        scores_window.append(score)\n",
    "        mean_100 = np.mean(scores_window)\n",
    "        print('\\rEpisode {}\\tAverage Score: {:.3f}\\tLast Score: {:.3f}\\tMax Score: {:.3f}'.format(i_episode, \n",
    "                                                                                          mean_100, \n",
    "                                                                                          score,\n",
    "                                                                                         np.max(scores_one_episode)), end=\"\")\n",
    "        if i_episode % 100 == 0:\n",
    "            print(' '*300, end=\"\")\n",
    "            print('\\rEpisode {}\\tAverage Score: {:.3f}\\tMax Score: {:.3f}'.format(i_episode, mean_100, np.max(scores_window)))\n",
    "            agent.save()\n",
    "        if np.mean(scores_window)>=30.0:\n",
    "            print('\\nEnvironment solved in {:d} episodes!\\tAverage Score: {:.3f}'.format(i_episode, mean_100))\n",
    "            agent.save()\n",
    "            break\n",
    "    return scores"
   ]
  },
  {
   "cell_type": "code",
   "execution_count": null,
   "metadata": {
    "scrolled": false
   },
   "outputs": [],
   "source": [
    "from agents.utils import ReplayBuffer, ParameterNoise, ActionNoise\n",
    "from agents.parallel_ddpg import ParallelDDPG\n",
    "from agents.models_success import Actor, Critic\n",
    "import random\n",
    "\n",
    "device = torch.device(\"cuda:0\" if torch.cuda.is_available() else \"cpu\")\n",
    "#device = \"cpu\"\n",
    "torch.set_num_threads(3)\n",
    "random_seed = 0\n",
    "states = env_info.vector_observations\n",
    "action_size = brain.vector_action_space_size\n",
    "memory = ReplayBuffer(action_size, device, int(1e5), 64, random_seed)\n",
    "agent = ParallelDDPG(states.shape[1], action_size, random_seed, states.shape[0], memory, Actor, Critic, device, \n",
    "                    TAU=1e-3,\n",
    "                    UPDATE_EVERY=20,\n",
    "                    TRANSFER_EVERY=1,\n",
    "                    UPDATE_LOOP=10,\n",
    "                    ADD_NOISE_EVERY=1,\n",
    "                    BOOTSTRAP_SIZE=4,\n",
    "                    LR_CRITIC = 1e-4,\n",
    "                    LR_ACTOR = 1e-3)\n",
    "# noise = ParameterNoise(agent.actor_target, device, random_seed, mu=0., theta=0.3, sigma=0.05)\n",
    "\n",
    "random.seed(random_seed)\n",
    "noise = [ActionNoise(action_size, device, random_seed + i*10, mu=-0.5, theta=0.1*random.random(), \n",
    "                     sigma=0.1*random.random()) for i in range(int(states.shape[1]))] \n",
    "agent.set_noise(noise)\n",
    "# Check that saving and loading are working\n",
    "# agent.save()\n",
    "# agent.load()"
   ]
  },
  {
   "cell_type": "code",
   "execution_count": null,
   "metadata": {},
   "outputs": [],
   "source": [
    "scores = train(agent, n_episodes=1000, max_t=200, train_mode=True)\n",
    "plot_result(scores)"
   ]
  },
  {
   "cell_type": "markdown",
   "metadata": {},
   "source": [
    "## Load the latest weight and continue the training"
   ]
  },
  {
   "cell_type": "code",
   "execution_count": null,
   "metadata": {},
   "outputs": [],
   "source": [
    "agent.load(\"/success_2/1,000\")\n",
    "scores = train(agent, n_episodes=1000, max_t=200, train_mode=True)\n",
    "plot_result(scores)"
   ]
  }
 ],
 "metadata": {
  "kernelspec": {
   "display_name": "drlnd",
   "language": "python",
   "name": "drlnd"
  },
  "language_info": {
   "codemirror_mode": {
    "name": "ipython",
    "version": 3
   },
   "file_extension": ".py",
   "mimetype": "text/x-python",
   "name": "python",
   "nbconvert_exporter": "python",
   "pygments_lexer": "ipython3",
   "version": "3.6.6"
  }
 },
 "nbformat": 4,
 "nbformat_minor": 2
}
