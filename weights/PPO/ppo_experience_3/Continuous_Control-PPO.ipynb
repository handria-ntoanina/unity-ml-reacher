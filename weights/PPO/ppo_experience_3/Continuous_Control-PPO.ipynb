{
 "cells": [
  {
   "cell_type": "markdown",
   "metadata": {},
   "source": [
    "## Import the necessary library\n"
   ]
  },
  {
   "cell_type": "code",
   "execution_count": 1,
   "metadata": {},
   "outputs": [],
   "source": [
    "import torch\n",
    "import numpy as np\n",
    "from collections import deque\n",
    "import matplotlib.pyplot as plt\n",
    "from unityagents import UnityEnvironment\n",
    "\n",
    "%matplotlib inline\n",
    "%load_ext autoreload\n",
    "%autoreload 2"
   ]
  },
  {
   "cell_type": "code",
   "execution_count": 2,
   "metadata": {
    "scrolled": false
   },
   "outputs": [
    {
     "name": "stderr",
     "output_type": "stream",
     "text": [
      "INFO:unityagents:\n",
      "'Academy' started successfully!\n",
      "Unity Academy name: Academy\n",
      "        Number of Brains: 1\n",
      "        Number of External Brains : 1\n",
      "        Lesson number : 0\n",
      "        Reset Parameters :\n",
      "\t\tgoal_speed -> 1.0\n",
      "\t\tgoal_size -> 5.0\n",
      "Unity brain name: ReacherBrain\n",
      "        Number of Visual Observations (per agent): 0\n",
      "        Vector Observation space type: continuous\n",
      "        Vector Observation space size (per agent): 33\n",
      "        Number of stacked Vector Observation: 1\n",
      "        Vector Action space type: continuous\n",
      "        Vector Action space size (per agent): 4\n",
      "        Vector Action descriptions: , , , \n"
     ]
    }
   ],
   "source": [
    "# env = UnityEnvironment(file_name='/data/Reacher_One_Linux_NoVis/Reacher_One_Linux_NoVis.x86_64')\n",
    "# env = UnityEnvironment(file_name='/data/Reacher_Linux_NoVis/Reacher.x86_64')\n",
    "env = UnityEnvironment(file_name='./Reacher_Windows_x86_64/Reacher.exe')\n",
    "# get the default brain\n",
    "brain_name = env.brain_names[0]\n",
    "brain = env.brains[brain_name]\n",
    "# reset the environment\n",
    "env_info = env.reset(train_mode=True)[brain_name]"
   ]
  },
  {
   "cell_type": "markdown",
   "metadata": {},
   "source": [
    "### Method to plot the progress of the agent's score"
   ]
  },
  {
   "cell_type": "code",
   "execution_count": 3,
   "metadata": {},
   "outputs": [],
   "source": [
    "def plot_result(scores):\n",
    "    # plot the scores\n",
    "    fig = plt.figure()\n",
    "    ax = fig.add_subplot(111)\n",
    "    plt.plot(np.arange(len(scores)), scores)\n",
    "    plt.ylabel('Score')\n",
    "    plt.xlabel('Episode #')\n",
    "    plt.show()"
   ]
  },
  {
   "cell_type": "markdown",
   "metadata": {},
   "source": [
    "## Validation method\n",
    "The noise has to be deactivated before the validation. This method is being used to assess the performance of the agent after every episode of training"
   ]
  },
  {
   "cell_type": "code",
   "execution_count": 4,
   "metadata": {},
   "outputs": [],
   "source": [
    "def validate(agent, max_t, train_mode=True):\n",
    "    env_info = env.reset(train_mode=train_mode)[brain_name]\n",
    "    states = env_info.vector_observations\n",
    "    scores_one_episode = np.zeros(states.shape[0])\n",
    "    for t in range(max_t):\n",
    "        actions, _, _ = agent.act(states)                        # select an action (for each agent)\n",
    "        env_info = env.step(np.clip(actions, -1, 1))[brain_name]   # send all actions to the environment\n",
    "        next_states = env_info.vector_observations               # get next state (for each agent)\n",
    "        rewards = env_info.rewards                               # get reward (for each agent)\n",
    "        dones = env_info.local_done                              # see if episode finished\n",
    "        scores_one_episode += env_info.rewards                   # update the score (for each agent)\n",
    "        states = next_states                                     # roll over states to next time step\n",
    "        if np.any(dones):                                        # exit loop if episode finished\n",
    "            break\n",
    "    return scores_one_episode"
   ]
  },
  {
   "cell_type": "markdown",
   "metadata": {},
   "source": [
    "## Training method\n",
    "The main loop of the training can be found here"
   ]
  },
  {
   "cell_type": "code",
   "execution_count": 11,
   "metadata": {},
   "outputs": [],
   "source": [
    "def train(agent, n_episodes=500, max_t=500, train_mode=True):\n",
    "    scores = []                        # list containing scores from each episode\n",
    "    scores_window = deque(maxlen=100)  # last 100 scores\n",
    "    for i_episode in range(1, n_episodes+1):\n",
    "        env_info = env.reset(train_mode=train_mode)[brain_name]\n",
    "        states = env_info.vector_observations\n",
    "        scores_one_episode = np.zeros(states.shape[0])\n",
    "        trajectories_states, trajectories_actions, trajectories_log_probs, trajectories_values, \\\n",
    "        trajectories_rewards, trajectories_next_states, trajectories_dones = [],[],[],[],[],[],[]\n",
    "        \n",
    "        for t in range(max_t):\n",
    "            actions, log_probs, values = agent.act(states)\n",
    "            env_info = env.step(np.clip(actions, -1, 1))[brain_name] # send all actions to the environment\n",
    "            next_states = env_info.vector_observations               # get next state (for each agent)\n",
    "            rewards = env_info.rewards                               # get reward (for each agent)\n",
    "            dones = env_info.local_done                              # see if episode finished\n",
    "            scores_one_episode += rewards\n",
    "            trajectories_states.append(states)\n",
    "            trajectories_actions.append(actions)\n",
    "            trajectories_log_probs.append(log_probs)\n",
    "            trajectories_values.append(values)\n",
    "            trajectories_rewards.append(rewards)\n",
    "            trajectories_next_states.append(next_states)\n",
    "            trajectories_dones.append(dones)\n",
    "            states = next_states                                     # roll over states to next time step\n",
    "            if np.any(dones):                                        # exit loop if episode finished\n",
    "                break\n",
    "#                 env_info = env.reset(train_mode=train_mode)[brain_name]\n",
    "#                 states = env_info.vector_observations \n",
    "  \n",
    "        agent.learn(trajectories_states, trajectories_actions, trajectories_log_probs, trajectories_values, \n",
    "        trajectories_rewards, trajectories_next_states, trajectories_dones)\n",
    "        score = np.average(scores_one_episode)\n",
    "        scores.append(score)\n",
    "        scores_window.append(score)\n",
    "        mean_100 = np.mean(scores_window)\n",
    "        print('\\rEpisode {}\\tAverage Score: {:.3f}\\tLast Score: {:.3f}\\tMax Score: {:.3f}'.format(i_episode, \n",
    "                                                                                          mean_100, \n",
    "                                                                                          score,\n",
    "                                                                                         np.max(scores_one_episode)), end=\"\")\n",
    "        if i_episode % 100 == 0:\n",
    "            print('\\rEpisode {}\\tAverage Score: {:.3f}\\tMax Score: {:.3f}'.format(i_episode, mean_100, np.max(scores_window)))\n",
    "            agent.save()\n",
    "        if len(scores_window) >= 100 and np.mean(scores_window)>=max_t*30.0/950:\n",
    "            print('\\nEnvironment solved in {:d} episodes!\\tAverage Score: {:.3f}'.format(i_episode, mean_100))\n",
    "            agent.save()\n",
    "            break\n",
    "    return scores"
   ]
  },
  {
   "cell_type": "code",
   "execution_count": 12,
   "metadata": {
    "scrolled": true
   },
   "outputs": [
    {
     "name": "stdout",
     "output_type": "stream",
     "text": [
      "Episode 100\tAverage Score: 0.271\tMax Score: 0.6417\tMax Score: 1.060\n",
      "Episode 200\tAverage Score: 0.555\tMax Score: 1.0075\tMax Score: 3.760\n",
      "Episode 300\tAverage Score: 0.703\tMax Score: 1.0277\tMax Score: 1.710\n",
      "Episode 400\tAverage Score: 0.876\tMax Score: 1.2552\tMax Score: 1.830\n",
      "Episode 500\tAverage Score: 0.971\tMax Score: 1.3350\tMax Score: 3.600\n",
      "Episode 600\tAverage Score: 1.101\tMax Score: 1.6750\tMax Score: 4.100\n",
      "Episode 700\tAverage Score: 1.243\tMax Score: 1.8330\tMax Score: 4.320\n",
      "Episode 800\tAverage Score: 1.372\tMax Score: 1.8913\tMax Score: 4.210\n",
      "Episode 900\tAverage Score: 1.416\tMax Score: 1.9264\tMax Score: 5.920\n",
      "Episode 1000\tAverage Score: 1.542\tMax Score: 2.1036\tMax Score: 4.620\n",
      "Episode 1100\tAverage Score: 1.622\tMax Score: 2.1433\tMax Score: 3.130\n",
      "Episode 1200\tAverage Score: 1.691\tMax Score: 2.1756\tMax Score: 3.180\n",
      "Episode 1300\tAverage Score: 1.742\tMax Score: 2.3272\tMax Score: 3.510\n",
      "Episode 1400\tAverage Score: 1.870\tMax Score: 2.3418\tMax Score: 5.180\n",
      "Episode 1500\tAverage Score: 2.013\tMax Score: 2.6603\tMax Score: 3.200\n",
      "Episode 1600\tAverage Score: 2.019\tMax Score: 2.6138\tMax Score: 3.240\n",
      "Episode 1700\tAverage Score: 2.059\tMax Score: 2.6215\tMax Score: 3.490\n",
      "Episode 1800\tAverage Score: 2.166\tMax Score: 2.7999\tMax Score: 3.610\n",
      "Episode 1900\tAverage Score: 2.107\tMax Score: 2.7724\tMax Score: 4.070\n",
      "Episode 2000\tAverage Score: 2.136\tMax Score: 2.9041\tMax Score: 4.000\n",
      "Episode 2100\tAverage Score: 2.103\tMax Score: 2.6449\tMax Score: 5.050\n",
      "Episode 2200\tAverage Score: 2.112\tMax Score: 2.7569\tMax Score: 6.070\n",
      "Episode 2300\tAverage Score: 2.162\tMax Score: 2.8155\tMax Score: 4.100\n",
      "Episode 2400\tAverage Score: 2.272\tMax Score: 3.0567\tMax Score: 6.610\n",
      "Episode 2500\tAverage Score: 2.238\tMax Score: 2.9603\tMax Score: 4.930\n",
      "Episode 2600\tAverage Score: 2.293\tMax Score: 2.9571\tMax Score: 4.920\n",
      "Episode 2700\tAverage Score: 2.303\tMax Score: 2.9735\tMax Score: 4.180\n",
      "Episode 2800\tAverage Score: 2.384\tMax Score: 3.0974\tMax Score: 6.220\n",
      "Episode 2900\tAverage Score: 2.375\tMax Score: 3.0927\tMax Score: 4.260\n",
      "Episode 3000\tAverage Score: 2.347\tMax Score: 3.2227\tMax Score: 6.530\n",
      "Episode 3100\tAverage Score: 2.272\tMax Score: 2.9145\tMax Score: 3.750\n",
      "Episode 3200\tAverage Score: 2.221\tMax Score: 2.8202\tMax Score: 6.540\n",
      "Episode 3300\tAverage Score: 2.264\tMax Score: 2.9892\tMax Score: 5.280\n",
      "Episode 3400\tAverage Score: 2.384\tMax Score: 3.0253\tMax Score: 3.650\n",
      "Episode 3500\tAverage Score: 2.432\tMax Score: 3.1238\tMax Score: 4.280\n",
      "Episode 3600\tAverage Score: 2.497\tMax Score: 3.2416\tMax Score: 4.630\n",
      "Episode 3700\tAverage Score: 2.592\tMax Score: 3.2985\tMax Score: 6.760\n",
      "Episode 3800\tAverage Score: 2.632\tMax Score: 3.3259\tMax Score: 3.570\n",
      "Episode 3900\tAverage Score: 2.617\tMax Score: 3.5437\tMax Score: 3.940\n",
      "Episode 4000\tAverage Score: 2.653\tMax Score: 3.1791\tMax Score: 7.280\n",
      "Episode 4100\tAverage Score: 2.673\tMax Score: 3.3117\tMax Score: 6.550\n",
      "Episode 4200\tAverage Score: 2.632\tMax Score: 3.3149\tMax Score: 6.240\n",
      "Episode 4300\tAverage Score: 2.670\tMax Score: 3.3933\tMax Score: 5.450\n",
      "Episode 4400\tAverage Score: 2.620\tMax Score: 3.3198\tMax Score: 5.000\n",
      "Episode 4500\tAverage Score: 2.659\tMax Score: 3.2957\tMax Score: 5.300\n",
      "Episode 4600\tAverage Score: 2.624\tMax Score: 3.5204\tMax Score: 7.110\n",
      "Episode 4700\tAverage Score: 2.577\tMax Score: 3.2995\tMax Score: 3.880\n",
      "Episode 4800\tAverage Score: 2.602\tMax Score: 3.3685\tMax Score: 6.230\n",
      "Episode 4900\tAverage Score: 2.577\tMax Score: 3.5026\tMax Score: 4.420\n",
      "Episode 5000\tAverage Score: 2.587\tMax Score: 3.2996\tMax Score: 4.540\n",
      "Episode 5100\tAverage Score: 2.600\tMax Score: 3.3060\tMax Score: 7.000\n",
      "Episode 5200\tAverage Score: 2.567\tMax Score: 3.2781\tMax Score: 4.570\n",
      "Episode 5300\tAverage Score: 2.487\tMax Score: 3.2066\tMax Score: 5.310\n",
      "Episode 5400\tAverage Score: 2.531\tMax Score: 3.2428\tMax Score: 4.410\n",
      "Episode 5500\tAverage Score: 2.556\tMax Score: 3.2577\tMax Score: 4.260\n",
      "Episode 5600\tAverage Score: 2.576\tMax Score: 3.2942\tMax Score: 4.620\n",
      "Episode 5700\tAverage Score: 2.644\tMax Score: 3.4668\tMax Score: 4.830\n",
      "Episode 5800\tAverage Score: 2.609\tMax Score: 3.4713\tMax Score: 5.240\n",
      "Episode 5900\tAverage Score: 2.697\tMax Score: 3.3301\tMax Score: 7.350\n",
      "Episode 6000\tAverage Score: 2.731\tMax Score: 3.4803\tMax Score: 6.300\n"
     ]
    },
    {
     "data": {
      "image/png": "[encoded data removed]",
      "text/plain": [
       "<Figure size 432x288 with 1 Axes>"
      ]
     },
     "metadata": {},
     "output_type": "display_data"
    }
   ],
   "source": [
    "from agents.ppo import PPO\n",
    "from agents.model_ppo import Gaussian\n",
    "import random\n",
    "\n",
    "# device = torch.device(\"cuda:0\" if torch.cuda.is_available() else \"cpu\")\n",
    "device = \"cpu\"\n",
    "random_seed = 0\n",
    "states = env_info.vector_observations\n",
    "action_size = brain.vector_action_space_size\n",
    "network = Gaussian(states.shape[1], action_size, random_seed).to(device)\n",
    "agent = PPO(network, random_seed, device, states.shape[0], \n",
    "                 LR=3e-4, \n",
    "                 GRADIENT_CLIP=1, \n",
    "                 EPOCHS=10, \n",
    "                 BATCH_SIZE=256,\n",
    "                GAMMA=0.99,\n",
    "                GAE_TAU=0.99,\n",
    "                CLIP_EPSILON=0.1)\n",
    "scores = train(agent, n_episodes=6000, max_t=256, train_mode=True)\n",
    "plot_result(scores)"
   ]
  },
  {
   "cell_type": "markdown",
   "metadata": {},
   "source": [
    "## To Do\n",
    "The next steps are:\n",
    "* read the paper on High Dimensional Continuous Control Using Generalized Advantage Estimation from arxiv\n",
    "* understand the difference between lamda return and the formula based on advantage and residual of bellman equation"
   ]
  },
  {
   "cell_type": "code",
   "execution_count": null,
   "metadata": {},
   "outputs": [],
   "source": [
    "scores = validate(agent, 200, False)\n",
    "print(np.mean(scores))"
   ]
  },
  {
   "cell_type": "code",
   "execution_count": null,
   "metadata": {},
   "outputs": [],
   "source": []
  }
 ],
 "metadata": {
  "kernelspec": {
   "display_name": "drlnd",
   "language": "python",
   "name": "drlnd"
  },
  "language_info": {
   "codemirror_mode": {
    "name": "ipython",
    "version": 3
   },
   "file_extension": ".py",
   "mimetype": "text/x-python",
   "name": "python",
   "nbconvert_exporter": "python",
   "pygments_lexer": "ipython3",
   "version": "3.6.6"
  }
 },
 "nbformat": 4,
 "nbformat_minor": 2
}
